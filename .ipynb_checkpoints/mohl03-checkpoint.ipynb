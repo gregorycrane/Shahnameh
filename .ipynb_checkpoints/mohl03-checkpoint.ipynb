{
 "cells": [
  {
   "cell_type": "code",
   "execution_count": 1,
   "metadata": {},
   "outputs": [
    {
     "name": "stdout",
     "output_type": "stream",
     "text": [
      "skip 2 5\n",
      "skip 5 4\n",
      "skip 4 6\n",
      "skip 9 11\n",
      "skip 39 41\n",
      "skip 46 46\n",
      "skip 47 47\n",
      "skip 47 49\n",
      "skip 49 49\n",
      "skip 50 50\n",
      "skip 53 53\n",
      "skip 59 58\n",
      "skip 58 60\n",
      "skip 63 457\n",
      "skip 474 476\n",
      "skip 488 490\n",
      "skip 502 63\n",
      "skip 124 127\n",
      "skip 138 140\n",
      "skip 142 144\n",
      "skip 184 187\n",
      "skip 224 226\n"
     ]
    }
   ],
   "source": [
    "import re\n",
    "\n",
    "f = open('shahnameh.mohl03.xml')\n",
    "prevpn = 0\n",
    "for l in f:\n",
    "    \n",
    "    m = re.search('<pb n=\"([0-9]+)\"',l)\n",
    "    if(m):\n",
    "        curpn = int(m[1])\n",
    "        if(not curpn == prevpn +1 ):\n",
    "            print('skip',prevpn,curpn)\n",
    "        prevpn = curpn"
   ]
  },
  {
   "cell_type": "code",
   "execution_count": null,
   "metadata": {},
   "outputs": [],
   "source": []
  }
 ],
 "metadata": {
  "kernelspec": {
   "display_name": "Python 3",
   "language": "python",
   "name": "python3"
  },
  "language_info": {
   "codemirror_mode": {
    "name": "ipython",
    "version": 3
   },
   "file_extension": ".py",
   "mimetype": "text/x-python",
   "name": "python",
   "nbconvert_exporter": "python",
   "pygments_lexer": "ipython3",
   "version": "3.8.1"
  }
 },
 "nbformat": 4,
 "nbformat_minor": 4
}
