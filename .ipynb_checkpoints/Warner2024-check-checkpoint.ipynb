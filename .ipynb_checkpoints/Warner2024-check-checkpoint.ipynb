{
 "cells": [
  {
   "cell_type": "code",
   "execution_count": 9,
   "metadata": {},
   "outputs": [
    {
     "name": "stdout",
     "output_type": "stream",
     "text": [
      "[] <p> <pb n=\"1\"/>Un jour Bahram dit à Nersi: <q>Pars avec le sceau et le diadème, je te donne le Khorasan; fais-le prospérer et rends heureux le cœur de mes sujets; aie soin d’être toujours juste et n'inlerromps jamais le passage à travers ce pays. Notre père a fait le mal, mais il a eu à trembler comme un homme nu tremble devant le vent d'automne.</q> Il lui fit préparer une robe d'honneur, fit vider pour lui un riche trésor, et lui dit: <q>Que Dieu soit ton asile et le trône du soleil ta demeure !</q> Nersi passa deux semaines dans son voyage et prit, en bonne santé, possession du Khorasan.</p>\n",
      "\n"
     ]
    },
    {
     "ename": "ValueError",
     "evalue": "invalid literal for int() with base 10: ''",
     "output_type": "error",
     "traceback": [
      "\u001b[0;31m---------------------------------------------------------------------------\u001b[0m",
      "\u001b[0;31mValueError\u001b[0m                                Traceback (most recent call last)",
      "\u001b[0;32m<ipython-input-9-4160c453be37>\u001b[0m in \u001b[0;36m<module>\u001b[0;34m\u001b[0m\n\u001b[1;32m     43\u001b[0m             \u001b[0;31m#curpage = m[1]\u001b[0m\u001b[0;34m\u001b[0m\u001b[0;34m\u001b[0m\u001b[0;34m\u001b[0m\u001b[0m\n\u001b[1;32m     44\u001b[0m             \u001b[0mprint\u001b[0m\u001b[0;34m(\u001b[0m\u001b[0;34m'['\u001b[0m\u001b[0;34m+\u001b[0m\u001b[0mcurpage\u001b[0m\u001b[0;34m+\u001b[0m\u001b[0;34m']'\u001b[0m\u001b[0;34m,\u001b[0m\u001b[0ml\u001b[0m\u001b[0;34m)\u001b[0m\u001b[0;34m\u001b[0m\u001b[0;34m\u001b[0m\u001b[0m\n\u001b[0;32m---> 45\u001b[0;31m             \u001b[0mcurp\u001b[0m \u001b[0;34m=\u001b[0m \u001b[0mint\u001b[0m\u001b[0;34m(\u001b[0m\u001b[0mcurpage\u001b[0m\u001b[0;34m)\u001b[0m\u001b[0;34m\u001b[0m\u001b[0;34m\u001b[0m\u001b[0m\n\u001b[0m\u001b[1;32m     46\u001b[0m             \u001b[0;32mif\u001b[0m\u001b[0;34m(\u001b[0m\u001b[0mprevp\u001b[0m \u001b[0;32mand\u001b[0m \u001b[0;32mnot\u001b[0m \u001b[0mcurp\u001b[0m \u001b[0;34m==\u001b[0m \u001b[0mprevp\u001b[0m \u001b[0;34m+\u001b[0m \u001b[0;36m1\u001b[0m\u001b[0;34m)\u001b[0m\u001b[0;34m:\u001b[0m\u001b[0;34m\u001b[0m\u001b[0;34m\u001b[0m\u001b[0m\n\u001b[1;32m     47\u001b[0m                 \u001b[0mprint\u001b[0m\u001b[0;34m(\u001b[0m\u001b[0;34m'page'\u001b[0m\u001b[0;34m,\u001b[0m\u001b[0mprevp\u001b[0m\u001b[0;34m,\u001b[0m\u001b[0mcurp\u001b[0m\u001b[0;34m)\u001b[0m\u001b[0;34m\u001b[0m\u001b[0;34m\u001b[0m\u001b[0m\n",
      "\u001b[0;31mValueError\u001b[0m: invalid literal for int() with base 10: ''"
     ]
    }
   ],
   "source": [
    "import re\n",
    "\n",
    "\n",
    "reflist = []\n",
    "notelist = []\n",
    "\n",
    "curpage = ''\n",
    "\n",
    "currefnum = 0\n",
    "curpagenum = 0\n",
    "cursection = 0\n",
    "prevsection = 0\n",
    "\n",
    "curvuller = 0\n",
    "curcalc = 0\n",
    "\n",
    "curfname = 'shahnameh.warn09.xml'\n",
    "curfname = 'shahnameh.mohl06.xml'\n",
    "\n",
    "\n",
    "f = open(curfname)\n",
    "\n",
    "curp = 0\n",
    "prevp = 0\n",
    "for l in f:\n",
    "    l = re.sub('target=\"n\\.[0-9]+\\.','n=\"',l)\n",
    "    l = re.sub('<note n=\"[0-9]+\\.','<note n=\"',l)\n",
    "    l = re.sub('xml:id=\"n.[0-9]+\\.','n=\"',l)\n",
    "    l = re.sub('(<pb n=\")[0-9]+\\.','\\g<1>',l)\n",
    "    l = re.sub('<pb n=\"([^0-9]+)\"/>','',l)\n",
    "    \n",
    "    \n",
    "    m = re.search('type=\"textpart\" subtype=\"section\" n=\"([0-9]+)\"',l)\n",
    "    if(m):\n",
    "        cursection = int(m[1])\n",
    "        if(not cursection == 1 and not cursection == prevsection + 1):\n",
    "            print(curpage,'sect',prevsection,cursection,l)\n",
    "        prevsection = cursection\n",
    "        #print('section',cursection,l)\n",
    "    while(re.search('<pb n=\"([^\"]+)\"',l)):\n",
    "        m = re.search('<pb n=\"([^\"]+)\"',l)\n",
    "        if(m):\n",
    "            curpage = m[1]\n",
    "            print('['+curpage+']',l)\n",
    "            curp = int(curpage)\n",
    "            if(prevp and not curp == prevp + 1):\n",
    "                print('page',prevp,curp)\n",
    "            prevp = curp\n",
    "            curpagenum = int(curpage) * 100\n",
    "        \n",
    "            currefnum = curpagenum\n",
    "        l = re.sub('<pb n=\"([^\"]+)\"','',l,1)\n",
    "        \n",
    "    m = re.search('<milestone unit=\"(vullers|calced)\" n=\"([0-9]+)\"/>',l)\n",
    "    if(m):\n",
    "        tmpvuller = int(m[2])\n",
    "        if( curvuller and not tmpvuller == curvuller + 1):\n",
    "            print('vulljump',curpage,curvuller,tmpvuller)\n",
    "            \n",
    "        \n",
    "        curvuller = int(m[2])\n",
    "            \n",
    "    if(m):\n",
    "        tmpcalc = int(m[2])\n",
    "        if( curcalc and not tmpcalc == curcalc + 1):\n",
    "            print('calcjump',curcalc,tmpcalc)\n",
    "            \n",
    "        \n",
    "        curvuller = int(m[2])\n",
    "            \n",
    "    noteregex =    '^<note n=\"([^\"]+)\">(.+)</note>'\n",
    "    while(re.search(noteregex,l)):\n",
    "        m = re.search(noteregex,l)\n",
    "        curref = curpage + '.' + m[1]\n",
    "        tmprefnum = curpagenum + int(m[1])\n",
    "        notetext = m[2]\n",
    "        \n",
    "        if(not tmprefnum == currefnum + 1):\n",
    "            print('jump',curpage,currefnum, tmprefnum,l)\n",
    "        currefnum = tmprefnum\n",
    "        \n",
    "        if(curref in notelist):\n",
    "            print('dupnote',curref)\n",
    "        else:\n",
    "            notelist.append(curref)\n",
    "        l = re.sub(noteregex,'',l,1)        \n",
    "    while(re.search('<ref n=\"([^\"]+)\"',l)):\n",
    "        m = re.search('<ref n=\"([^\"]+)\"',l)\n",
    "        curref = curpage + '.' + m[1]\n",
    "        #print('curr',curref)\n",
    "        if(curref in reflist):\n",
    "            print('dupref',curref)\n",
    "        else:\n",
    "            reflist.append(curref)\n",
    "        \n",
    "        l = re.sub('<ref n=\"([^\"]+)\"','',l,1)\n",
    "        \n",
    "for foo in notelist:\n",
    "    if(not foo in reflist):\n",
    "        print('noref',foo)\n",
    "for foo in reflist:\n",
    "    if(not foo in notelist):\n",
    "        print('nonote',foo)"
   ]
  },
  {
   "cell_type": "code",
   "execution_count": 21,
   "metadata": {
    "scrolled": true
   },
   "outputs": [],
   "source": [
    "for foo in notelist:\n",
    "    if(not foo in reflist):\n",
    "        print('noref',foo)"
   ]
  },
  {
   "cell_type": "code",
   "execution_count": 41,
   "metadata": {},
   "outputs": [
    {
     "data": {
      "text/plain": [
       "[]"
      ]
     },
     "execution_count": 41,
     "metadata": {},
     "output_type": "execute_result"
    }
   ],
   "source": [
    "notelist"
   ]
  },
  {
   "cell_type": "code",
   "execution_count": null,
   "metadata": {},
   "outputs": [],
   "source": []
  }
 ],
 "metadata": {
  "kernelspec": {
   "display_name": "Python 3",
   "language": "python",
   "name": "python3"
  },
  "language_info": {
   "codemirror_mode": {
    "name": "ipython",
    "version": 3
   },
   "file_extension": ".py",
   "mimetype": "text/x-python",
   "name": "python",
   "nbconvert_exporter": "python",
   "pygments_lexer": "ipython3",
   "version": "3.8.1"
  }
 },
 "nbformat": 4,
 "nbformat_minor": 4
}
