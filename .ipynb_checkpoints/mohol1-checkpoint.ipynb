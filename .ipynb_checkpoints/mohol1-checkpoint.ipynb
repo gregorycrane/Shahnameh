{
 "cells": [
  {
   "cell_type": "code",
   "execution_count": 23,
   "metadata": {},
   "outputs": [
    {
     "name": "stdout",
     "output_type": "stream",
     "text": [
      "</p></div></div></body></text></TEI>\n"
     ]
    }
   ],
   "source": [
    "import re\n",
    "import sys\n",
    "outf = open('outf.xml','w')\n",
    "\n",
    "f = open('shahnam-mohl01-tei.txt')\n",
    "for l in f:\n",
    "    print(l,end='',file=outf)\n",
    "f.close()\n",
    "\n",
    "\n",
    "f = open('shahnameh.mohl01.txt')\n",
    "\n",
    "inquote = 0\n",
    "curpage = ''\n",
    "for l in f:\n",
    "    qline = l\n",
    "    m = re.search('<pb n=\"([0-9]+)\"',l)\n",
    "    if(m):\n",
    "        curpage = m[1]\n",
    "    if( re.search('(.«)',l)):\n",
    "        l = re.sub('(.)(«)','\\g<1><q>',l)\n",
    "        if(inquote):\n",
    "            print('doublequote',curpage,l,end='')\n",
    "        inquote = 1\n",
    "        #print('start')\n",
    "    if( re.search('»',l)):\n",
    "        l = re.sub('»','</q>',l)\n",
    "        if(inquote == 0):\n",
    "            print('unopend',curpage,l,end='')\n",
    "        inquote = 0\n",
    "    l = re.sub('^«','',l)\n",
    "        #print('close',curpage,l,end='')\n",
    "    #if(inquote):\n",
    "       # print(l,end='')\n",
    "    \n",
    "    print(l,end='',file=outf)\n",
    "\n",
    "f.close()\n",
    "print('</p></div></div></body></text></TEI>',file=outf)\n",
    "outf.close()"
   ]
  },
  {
   "cell_type": "code",
   "execution_count": null,
   "metadata": {},
   "outputs": [],
   "source": []
  },
  {
   "cell_type": "code",
   "execution_count": null,
   "metadata": {},
   "outputs": [],
   "source": []
  }
 ],
 "metadata": {
  "kernelspec": {
   "display_name": "Python 3",
   "language": "python",
   "name": "python3"
  },
  "language_info": {
   "codemirror_mode": {
    "name": "ipython",
    "version": 3
   },
   "file_extension": ".py",
   "mimetype": "text/x-python",
   "name": "python",
   "nbconvert_exporter": "python",
   "pygments_lexer": "ipython3",
   "version": "3.8.1"
  }
 },
 "nbformat": 4,
 "nbformat_minor": 4
}
