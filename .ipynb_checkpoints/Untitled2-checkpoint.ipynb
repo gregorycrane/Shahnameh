{
 "cells": [
  {
   "cell_type": "code",
   "execution_count": 57,
   "metadata": {},
   "outputs": [
    {
     "name": "stdout",
     "output_type": "stream",
     "text": [
      "jump 6 228\n"
     ]
    }
   ],
   "source": [
    "import re\n",
    "\n",
    "curv = '1'\n",
    "\n",
    "fname = 'pizzi0' + curv+ '.txt'\n",
    "outfname = 'tmp-' + fname\n",
    "\n",
    "outf =open(outfname,'w')\n",
    "f = open(fname)\n",
    "\n",
    "curpnum = 0\n",
    "\n",
    "for l in f:\n",
    "    l = re.sub('\\s+$','',l)\n",
    "    m= re.search('<pb n=\"'+curv+'\\.([0-9]+)\"',l)\n",
    "    if(m):\n",
    "        if(not curpnum):\n",
    "            curpnum = int(m[1])\n",
    "        else:\n",
    "            curpnum = curpnum + 1\n",
    "            l = re.sub('<pb n=\"([0-9]\\.)[0-9]+\"','<pb n=\"\\g<1>'+str(curpnum)+'\"',l)\n",
    "            \n",
    "        #print(curpnum)\n",
    "    m = re.search('^[\\s—_]+([0-9]+)',l)\n",
    "    if(m):\n",
    "        tmpn = int(m[1])\n",
    "        if(not tmpn == curpnum):\n",
    "            print('jump',tmpn,curpnum,l)\n",
    "    print(l,file=outf)\n",
    "\n",
    "outf.close()\n",
    "f.close()\n",
    "\n",
    "outf = open(fname,'w')\n",
    "f = open(outfname)\n",
    "for l in f:\n",
    "    l = re.sub('\\s+$','',l)\n",
    "    print(l,file=outf)\n",
    "    \n",
    "f.close()\n",
    "outf.close()\n",
    "\n",
    "#print(fname,outfname)"
   ]
  },
  {
   "cell_type": "code",
   "execution_count": null,
   "metadata": {},
   "outputs": [],
   "source": []
  },
  {
   "cell_type": "code",
   "execution_count": null,
   "metadata": {},
   "outputs": [],
   "source": []
  }
 ],
 "metadata": {
  "kernelspec": {
   "display_name": "Python 3",
   "language": "python",
   "name": "python3"
  },
  "language_info": {
   "codemirror_mode": {
    "name": "ipython",
    "version": 3
   },
   "file_extension": ".py",
   "mimetype": "text/x-python",
   "name": "python",
   "nbconvert_exporter": "python",
   "pygments_lexer": "ipython3",
   "version": "3.8.1"
  }
 },
 "nbformat": 4,
 "nbformat_minor": 4
}
