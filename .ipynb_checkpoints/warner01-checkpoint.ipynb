{
 "cells": [
  {
   "cell_type": "code",
   "execution_count": 14,
   "metadata": {},
   "outputs": [
    {
     "name": "stderr",
     "output_type": "stream",
     "text": [
      "9:vullerskip 1141 114<milestone unit=\"vullers\" n=\"114\"/>\n",
      "\n",
      "10:vullerskip 114 1143<milestone unit=\"vullers\" n=\"1143\"/>\n",
      "\n",
      "\n"
     ]
    },
    {
     "name": "stdout",
     "output_type": "stream",
     "text": [
      "9 1141\n",
      "10 114\n"
     ]
    },
    {
     "name": "stderr",
     "output_type": "stream",
     "text": [
      "272:vullerskip 1400 1405<milestone unit=\"vullers\" n=\"1405\"/>\n",
      "\n"
     ]
    },
    {
     "name": "stdout",
     "output_type": "stream",
     "text": [
      "272 1400\n"
     ]
    }
   ],
   "source": [
    "import re\n",
    "import sys\n",
    "curvol = '5'\n",
    "outf = open('warn'+curvol+'tmp.xml','w')\n",
    "f = open('shahnam-warn03-tei.txt')\n",
    "for l in f:\n",
    "    print(l,end='',file=outf)\n",
    "\n",
    "f.close()\n",
    "\n",
    "inpoem = 0\n",
    "\n",
    "pnum = 4\n",
    "vuller = 1494\n",
    "cursection = 0\n",
    "refs = {}\n",
    "notes = {}\n",
    "f = open('warn0'+curvol+'.txt')\n",
    "for l in f:\n",
    "    l = re.sub('[‘’]([Tt]wixt|[Tt]were|[Tt]is|[Mm]id|[Tt]was|[Tt]will|[Tt]would|[Nn]eath|[Gg]ainst|[Mm]ongst|[Gg]an)','\\'\\g<1>',l)\n",
    "    l = re.sub('([Oo]|[Hh]owe|[Nn]e|e)’er',\"\\g<1>'er\",l)\n",
    "    l = re.sub('(is)’(t)',\"\\g<1>'\\g<2>\",l)\n",
    "    l = re.sub('([Ee])’en',\"\\g<1>'er\",l)\n",
    "    l = re.sub('s’ ',\"s' \",l)\n",
    "    l = re.sub('( [tl])’','\\g<1>\\'',l)\n",
    "    l = re.sub('(.*)\\\\b[Vv]\\.\\s+([0-9]+)','<milestone unit=\"vullers\" n=\"\\g<2>\"/>\\n\\g<1>',l)\n",
    "    if( re.search('<head>Note',l)):\n",
    "        inpoem = 0\n",
    "    if( re.search('\"section\"',l)):\n",
    "        inpoem = 1\n",
    "    m = re.search('section\" n=\"([0-9]+)\"',l)\n",
    "    if(m):\n",
    "        newn = int(m[1])\n",
    "        if( not newn == cursection + 1 and not newn == 1):\n",
    "            sys.stderr.write('sectskip ' + str(pnum) + ' ' + str(cursection) + ' '+ str(newn) + '\\n')\n",
    "        cursection = newn\n",
    "    m = re.search('<pb n=\"([0-9]+)\"',l)\n",
    "    if(m):\n",
    "        newn = int(m[1])\n",
    "        if( not newn == pnum + 1):\n",
    "            sys.stderr.write('pageskip ' + str(pnum) + ' '+ str(newn) + '\\n')\n",
    "        pnum = newn\n",
    "    m = re.search('<milestone unit=\"vullers\" n=\"([0-9]+)\"',l)\n",
    "    if(m):\n",
    "        newn = int(m[1])\n",
    "        if( not newn == vuller + 1 ):\n",
    "            sys.stderr.write(str(pnum) + ':vullerskip ' + str(vuller) + ' '+ str(newn) + l + '\\n')\n",
    "            print(pnum,vuller)\n",
    "        vuller = newn\n",
    "    l = re.sub('^\\s+','',l)\n",
    "    while(re.search('(<ref target=\"n\\.)([0-9]+)\"',l)):\n",
    "        m = re.search('(<ref target=\"n\\.)([0-9]+)\"',l)\n",
    "\n",
    "        curn = str(pnum) + '.' + m[2]\n",
    "        if( curn in refs):\n",
    "            sys.stderr.write(str(pnum) + ' doubled note:' + l)\n",
    "        l = re.sub('(<ref target=\"n\\.)([0-9]+)\"','\\g<1>' + curn + '\"', l,1)\n",
    "        refs[curn] = 1\n",
    "    m = re.search('(<note n=\")([0-9]+)',l)\n",
    "    if(m):\n",
    "        curn = str(pnum) + '.' + m[2]\n",
    "        if( curn in notes):\n",
    "            sys.stderr.write(str(pnum) + ' doubled noteb:' + l)\n",
    "        l = re.sub('(<note n=\")([0-9]+)','\\g<1>' + curn, l)\n",
    "        notes[curn] = 1\n",
    "\n",
    "    if( inpoem):\n",
    "        l = re.sub('(<p>)','\\g<1><lb/>',l)\n",
    "        l = re.sub('^([A-Z\\(])','<lb/>\\g<1>',l)\n",
    "        l = re.sub('^([‘“‘\\'])\\s*([A-Z])','<lb/>\\g<1>\\g<2>',l)\n",
    "        l = re.sub('^(<q>)','<lb/>\\g<1>',l)\n",
    "        l = re.sub('‘','<q>',l)\n",
    "        l = re.sub('’([^s])','</q>\\g<1>',l)\n",
    "    l = re.sub('“','<q>',l)\n",
    "    l = re.sub('”','</q>',l)\n",
    "    print(l,file=outf,end='')\n",
    "f.close()\n",
    "\n",
    "print('</p>',file=outf)\n",
    "print('</div>',file=outf)\n",
    "print('</div>',file=outf)\n",
    "print('</div>',file=outf)\n",
    "print('</div>',file=outf)\n",
    "print('</body>',file=outf)\n",
    "print('</text>',file=outf)\n",
    "print('</TEI>',file=outf)\n",
    "\n",
    "outf.close()\n",
    "\n",
    "for foo in refs:\n",
    "    if(not foo in notes):\n",
    "        sys.stderr.write(foo + ' not in notes\\n')\n",
    "\n",
    "for foo in notes:\n",
    "    if(not foo in refs):\n",
    "        sys.stderr.write(foo + ' not in refs\\n')"
   ]
  },
  {
   "cell_type": "code",
   "execution_count": null,
   "metadata": {},
   "outputs": [],
   "source": []
  },
  {
   "cell_type": "code",
   "execution_count": null,
   "metadata": {},
   "outputs": [],
   "source": []
  }
 ],
 "metadata": {
  "kernelspec": {
   "display_name": "Python 3",
   "language": "python",
   "name": "python3"
  },
  "language_info": {
   "codemirror_mode": {
    "name": "ipython",
    "version": 3
   },
   "file_extension": ".py",
   "mimetype": "text/x-python",
   "name": "python",
   "nbconvert_exporter": "python",
   "pygments_lexer": "ipython3",
   "version": "3.8.1"
  }
 },
 "nbformat": 4,
 "nbformat_minor": 4
}
