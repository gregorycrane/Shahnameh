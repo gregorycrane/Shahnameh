{
 "cells": [
  {
   "cell_type": "code",
   "execution_count": null,
   "metadata": {},
   "outputs": [],
   "source": [
    "outf = open('warn1tmp.xml','w')\n",
    "f = open('shahmameh.warner01.xml')\n",
    "\n",
    "for l in f:\n",
    "    workl = l\n",
    "    workl = re.sub('<[^>]+>',' ',l)\n",
    "    workl = re.sub('[\\.;,:?!]',' ',l)\n",
    "    words = workl.split(' ')\n",
    "    for foo in words:\n",
    "        if( foo in persns):\n",
    "            l = re.sub('\\\\b'+foo+'\\\\b','<persName>'+foo+'</persName>',l)\n",
    "    \n",
    "    print(l,end='',file=outf)\n",
    "f.close()\n",
    "outf.close()\n",
    "\n"
   ]
  }
 ],
 "metadata": {
  "kernelspec": {
   "display_name": "Python 3",
   "language": "python",
   "name": "python3"
  },
  "language_info": {
   "codemirror_mode": {
    "name": "ipython",
    "version": 3
   },
   "file_extension": ".py",
   "mimetype": "text/x-python",
   "name": "python",
   "nbconvert_exporter": "python",
   "pygments_lexer": "ipython3",
   "version": "3.8.1"
  }
 },
 "nbformat": 4,
 "nbformat_minor": 4
}
