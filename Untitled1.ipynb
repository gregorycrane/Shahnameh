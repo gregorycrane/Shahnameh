{
 "cells": [
  {
   "cell_type": "code",
   "execution_count": 11,
   "metadata": {},
   "outputs": [],
   "source": [
    "import re\n",
    "\n",
    "def checkpnums(fname):\n",
    "    f = open(fname)\n",
    "    curpage = 0\n",
    "    prevpage = 0\n",
    "    pagepat = '<pb n=\"([0-9]+)\"'\n",
    "    for l in f:\n",
    "        while(re.search(pagepat,l)):\n",
    "            #print(l)\n",
    "            m = re.search(pagepat,l)\n",
    "            if(m):\n",
    "                curpage = int(m[1])\n",
    "                if(not curpage == prevpage + 1):\n",
    "                    print('skip',prevpage,curpage)\n",
    "                prevpage = curpage\n",
    "            l = re.sub(pagepat,'',l,1)\n",
    "            #print(curpage)\n",
    "            \n",
    "            \n",
    "checkpnums('shahnameh.mohl07.xml')"
   ]
  },
  {
   "cell_type": "code",
   "execution_count": null,
   "metadata": {},
   "outputs": [],
   "source": []
  }
 ],
 "metadata": {
  "kernelspec": {
   "display_name": "Python 3",
   "language": "python",
   "name": "python3"
  },
  "language_info": {
   "codemirror_mode": {
    "name": "ipython",
    "version": 3
   },
   "file_extension": ".py",
   "mimetype": "text/x-python",
   "name": "python",
   "nbconvert_exporter": "python",
   "pygments_lexer": "ipython3",
   "version": "3.8.1"
  }
 },
 "nbformat": 4,
 "nbformat_minor": 4
}
