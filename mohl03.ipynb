{
 "cells": [
  {
   "cell_type": "code",
   "execution_count": 10,
   "metadata": {},
   "outputs": [],
   "source": [
    "import re\n",
    "\n",
    "\n",
    "f = open('shahnameh.mohl03.xml')\n",
    "prevpn = 0\n",
    "for l in f:\n",
    "    \n",
    "    m = re.search('<pb n=\"([0-9]+)\"',l)\n",
    "    if(m):\n",
    "        curpn = int(m[1])\n",
    "        if(not curpn == prevpn +1 ):\n",
    "            print('skip',prevpn,curpn)\n",
    "        prevpn = curpn"
   ]
  },
  {
   "cell_type": "code",
   "execution_count": null,
   "metadata": {},
   "outputs": [],
   "source": []
  }
 ],
 "metadata": {
  "kernelspec": {
   "display_name": "Python 3",
   "language": "python",
   "name": "python3"
  },
  "language_info": {
   "codemirror_mode": {
    "name": "ipython",
    "version": 3
   },
   "file_extension": ".py",
   "mimetype": "text/x-python",
   "name": "python",
   "nbconvert_exporter": "python",
   "pygments_lexer": "ipython3",
   "version": "3.8.1"
  }
 },
 "nbformat": 4,
 "nbformat_minor": 4
}
