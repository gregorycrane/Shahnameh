{
 "cells": [
  {
   "cell_type": "code",
   "execution_count": 7,
   "metadata": {},
   "outputs": [],
   "source": [
    "import re\n",
    "import sys\n",
    "pnum = 0\n",
    "\n",
    "f = open('shahnameh.mohl01.txt')\n",
    "for l in f:\n",
    "    m = re.search('<pb n=\"([0-9]+)\"',l)\n",
    "    if(m):\n",
    "        newn = int(m[1])\n",
    "        if( not newn == pnum + 1):\n",
    "            sys.stderr.write('jumped ' + str(pnum) + ' ' + m[1]+'\\n')\n",
    "        pnum = newn\n",
    "\n",
    "f.close()"
   ]
  },
  {
   "cell_type": "code",
   "execution_count": null,
   "metadata": {},
   "outputs": [],
   "source": []
  },
  {
   "cell_type": "code",
   "execution_count": null,
   "metadata": {},
   "outputs": [],
   "source": []
  }
 ],
 "metadata": {
  "kernelspec": {
   "display_name": "Python 3",
   "language": "python",
   "name": "python3"
  },
  "language_info": {
   "codemirror_mode": {
    "name": "ipython",
    "version": 3
   },
   "file_extension": ".py",
   "mimetype": "text/x-python",
   "name": "python",
   "nbconvert_exporter": "python",
   "pygments_lexer": "ipython3",
   "version": "3.8.1"
  }
 },
 "nbformat": 4,
 "nbformat_minor": 4
}
